{
 "cells": [
  {
   "cell_type": "markdown",
   "id": "e2a48584",
   "metadata": {},
   "source": []
  },
  {
   "cell_type": "code",
   "execution_count": null,
   "id": "205d31a3",
   "metadata": {},
   "outputs": [],
   "source": []
  },
  {
   "cell_type": "code",
   "execution_count": null,
   "id": "fca624a8",
   "metadata": {},
   "outputs": [],
   "source": [
    "# Load saved models and data\n",
    "best_model = joblib.load(\"models/best_model_gradient_boosting.pkl\")\n",
    "scaler = joblib.load(\"models/feature_scaler.pkl\")\n",
    "model_metadata = joblib.load(\"models/model_results.pkl\")\n",
    "feature_importance = joblib.load(\"models/feature_importance.pkl\")\n"
   ]
  }
 ],
 "metadata": {
  "kernelspec": {
   "display_name": "erdos_summer_2025",
   "language": "python",
   "name": "python3"
  },
  "language_info": {
   "name": "python",
   "version": "3.12.10"
  }
 },
 "nbformat": 4,
 "nbformat_minor": 5
}
