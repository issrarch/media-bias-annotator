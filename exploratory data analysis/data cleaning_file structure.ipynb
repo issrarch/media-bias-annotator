{
 "cells": [
  {
   "cell_type": "markdown",
   "id": "772ab8f0",
   "metadata": {},
   "source": [
    "# Basic file format loading, conversion, and CSV standardization"
   ]
  },
  {
   "cell_type": "markdown",
   "id": "f81fa138",
   "metadata": {},
   "source": [
    "In this notebook, we perform initial loading tasks where we load and convert .xlsx files to CSV files. We also save to CSV with UTF-8 encoding. One of the datasets comes in CSV format but has structure issues. We change the encoding to UTF-8 as well and standardize its structure by switching to comma separators while protecting comma-containing cells."
   ]
  },
  {
   "cell_type": "markdown",
   "id": "278b6ceb",
   "metadata": {},
   "source": [
    "## Import Required Libraries"
   ]
  },
  {
   "cell_type": "code",
   "execution_count": 1,
   "id": "5ae5d25f",
   "metadata": {},
   "outputs": [],
   "source": [
    "# import required libraries\n",
    "import pandas as pd\n",
    "import chardet\n"
   ]
  },
  {
   "cell_type": "markdown",
   "id": "6ae2f145",
   "metadata": {},
   "source": [
    "## Load and Examine Dataset Structure"
   ]
  },
  {
   "cell_type": "markdown",
   "id": "37f9279e",
   "metadata": {},
   "source": [
    "### 1. This `chardet` function returns the `annotators.csv` file's encoding system"
   ]
  },
  {
   "cell_type": "code",
   "execution_count": 2,
   "id": "3ae4130c",
   "metadata": {},
   "outputs": [
    {
     "name": "stdout",
     "output_type": "stream",
     "text": [
      "{'encoding': 'Windows-1252', 'confidence': 0.73, 'language': ''}\n"
     ]
    }
   ],
   "source": [
    "# `chardet` function to detect encoding of csv file annotators.csv\n",
    "def detect_encoding(file_path):\n",
    "    with open(file_path, \"rb\") as file:\n",
    "        raw_data = file.read()\n",
    "        result = chardet.detect(raw_data)\n",
    "        return result\n",
    "\n",
    "\n",
    "encoding_info = detect_encoding(\"../data/annotators.csv\")\n",
    "print(encoding_info)\n"
   ]
  },
  {
   "cell_type": "markdown",
   "id": "a02c774b",
   "metadata": {},
   "source": [
    "### 2. The following script standardizes the CSV file by creating standardized version with UTF-8 encoding and comma separators while protecting data"
   ]
  },
  {
   "cell_type": "code",
   "execution_count": 3,
   "id": "d3ccd4ea",
   "metadata": {},
   "outputs": [
    {
     "name": "stdout",
     "output_type": "stream",
     "text": [
      "Loaded shape: (1345, 9)\n",
      "Columns: ['id', 'age', 'gender', 'education', 'native_english_speaker', 'political_ideology', 'followed_news_outlets', 'news_check_frequency', 'survey_completed']\n",
      "Standardized: ../data/annotators.csv → ../data/annotators_utf8.csv\n"
     ]
    }
   ],
   "source": [
    "# define problematic csv standardization function\n",
    "def safe_standardize_csv(\n",
    "    input_file, output_file, input_sep=\";\", input_encoding=\"windows-1252\"\n",
    "):\n",
    "    df = pd.read_csv(input_file, sep=input_sep, encoding=input_encoding)\n",
    "\n",
    "    # Check if loading worked correctly (basic validation)\n",
    "    print(f\"Loaded shape: {df.shape}\")\n",
    "    print(f\"Columns: {df.columns.tolist()}\")\n",
    "\n",
    "    # Save with proper quoting\n",
    "    df.to_csv(output_file, encoding=\"utf-8\", index=False)\n",
    "    print(f\"Standardized: {input_file} → {output_file}\")\n",
    "    return df\n",
    "\n",
    "\n",
    "# standardize the annotators.csv file\n",
    "annotators_standardized = safe_standardize_csv(\n",
    "    \"../data/annotators.csv\",\n",
    "    \"../data/annotators_utf8.csv\",\n",
    "    input_sep=\";\",\n",
    "    input_encoding=\"Windows-1252\",\n",
    ")\n"
   ]
  },
  {
   "cell_type": "markdown",
   "id": "536cf853",
   "metadata": {},
   "source": [
    "### 3. Performs simple conversion for .xlsx files and uses UTF-8 encoding to enhance standardization "
   ]
  },
  {
   "cell_type": "code",
   "execution_count": 4,
   "id": "45910b79",
   "metadata": {},
   "outputs": [
    {
     "name": "stderr",
     "output_type": "stream",
     "text": [
      "/Users/issrar/miniconda3/envs/erdos_summer_2025/lib/python3.12/site-packages/openpyxl/worksheet/_read_only.py:85: UserWarning: Unknown extension is not supported and will be removed\n",
      "  for idx, row in parser.parse():\n"
     ]
    }
   ],
   "source": [
    "# load excel files\n",
    "annotations = pd.read_excel(\"../data/annotations.xlsx\")\n",
    "labeled_dataset = pd.read_excel(\"../data/labeled_dataset.xlsx\")\n",
    "\n",
    "# and convert to utf-8 csv files\n",
    "annotations.to_csv(\"../data/annotations_utf8.csv\", encoding=\"utf-8\", index=False)\n",
    "labeled_dataset.to_csv(\n",
    "    \"../data/labeled_dataset_utf8.csv\", encoding=\"utf-8\", index=False\n",
    ")\n"
   ]
  },
  {
   "cell_type": "markdown",
   "id": "a853a4f6",
   "metadata": {},
   "source": [
    "### 4. Check datasets loaded properly"
   ]
  },
  {
   "cell_type": "code",
   "execution_count": 5,
   "id": "1542c743",
   "metadata": {},
   "outputs": [
    {
     "name": "stdout",
     "output_type": "stream",
     "text": [
      "Annotators_standardized shape: (1345, 9)\n",
      "Annotations shape: (17775, 23)\n",
      "Labeled_dataset shape: (1700, 12)\n",
      "Data loaded successfully!\n"
     ]
    }
   ],
   "source": [
    "# check that everything is loaded correctly\n",
    "print(f\"Annotators_standardized shape: {annotators_standardized.shape}\")\n",
    "print(f\"Annotations shape: {annotations.shape}\")\n",
    "print(f\"Labeled_dataset shape: {labeled_dataset.shape}\")\n",
    "print(\"Data loaded successfully!\")\n"
   ]
  },
  {
   "cell_type": "markdown",
   "id": "773ee82a",
   "metadata": {},
   "source": [
    "### 4. When needed, use test copies for testing purposes and to preserve raw data"
   ]
  },
  {
   "cell_type": "code",
   "execution_count": 6,
   "metadata": {},
   "outputs": [],
   "source": [
    "# create copies for testing purposes\n",
    "annotators_test = annotators_standardized.copy()\n",
    "annotations_test = annotations.copy()\n",
    "labeled_dataset_test = labeled_dataset.copy()\n"
   ]
  }
 ],
 "metadata": {
  "kernelspec": {
   "display_name": "erdos_summer_2025",
   "language": "python",
   "name": "python3"
  },
  "language_info": {
   "codemirror_mode": {
    "name": "ipython",
    "version": 3
   },
   "file_extension": ".py",
   "mimetype": "text/x-python",
   "name": "python",
   "nbconvert_exporter": "python",
   "pygments_lexer": "ipython3",
   "version": "3.12.10"
  }
 },
 "nbformat": 4,
 "nbformat_minor": 5
}
